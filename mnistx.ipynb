{
  "nbformat": 4,
  "nbformat_minor": 0,
  "metadata": {
    "colab": {
      "provenance": [],
      "authorship_tag": "ABX9TyMfrz2QFARpajjydpVdG/Pf",
      "include_colab_link": true
    },
    "kernelspec": {
      "name": "python3",
      "display_name": "Python 3"
    },
    "language_info": {
      "name": "python"
    }
  },
  "cells": [
    {
      "cell_type": "markdown",
      "metadata": {
        "id": "view-in-github",
        "colab_type": "text"
      },
      "source": [
        "<a href=\"https://colab.research.google.com/github/SenecaX/colab-notebooks/blob/main/mnistx.ipynb\" target=\"_parent\"><img src=\"https://colab.research.google.com/assets/colab-badge.svg\" alt=\"Open In Colab\"/></a>"
      ]
    },
    {
      "cell_type": "code",
      "execution_count": null,
      "metadata": {
        "colab": {
          "base_uri": "https://localhost:8080/"
        },
        "id": "pDSdHepNHoJL",
        "outputId": "6e1a83fa-3e4a-47ef-ad74-61c32da109c2"
      },
      "outputs": [
        {
          "output_type": "stream",
          "name": "stdout",
          "text": [
            "Downloading data from https://storage.googleapis.com/tensorflow/tf-keras-datasets/mnist.npz\n",
            "11490434/11490434 [==============================] - 0s 0us/step\n",
            "Epoch 1/5\n",
            "1875/1875 [==============================] - 6s 3ms/step - loss: 0.2709 - accuracy: 0.9231\n",
            "Epoch 2/5\n",
            "1875/1875 [==============================] - 7s 4ms/step - loss: 0.1222 - accuracy: 0.9643\n",
            "Epoch 3/5\n",
            "1875/1875 [==============================] - 4s 2ms/step - loss: 0.0835 - accuracy: 0.9753\n",
            "Epoch 4/5\n",
            "1875/1875 [==============================] - 4s 2ms/step - loss: 0.0620 - accuracy: 0.9815\n",
            "Epoch 5/5\n",
            "1875/1875 [==============================] - 4s 2ms/step - loss: 0.0492 - accuracy: 0.9846\n",
            "313/313 [==============================] - 0s 1ms/step - loss: 0.0771 - accuracy: 0.9760\n",
            "Test accuracy: 0.9760000109672546\n"
          ]
        }
      ],
      "source": [
        "# Import TensorFlow library\n",
        "import tensorflow as tf  # We're using TensorFlow, a library for machine learning.\n",
        "from tensorflow import keras  # Keras is a user-friendly interface for building neural networks.\n",
        "from tensorflow.keras import layers  # We're importing components to build our neural network.\n",
        "\n",
        "# Create a simple neural network model\n",
        "model = keras.Sequential([  # We're building a sequence of neural network layers.\n",
        "    layers.Input(shape=(784,)),  # This is the input layer with 784 input nodes (for 28x28 pixel images).\n",
        "    layers.Dense(128, activation='relu'),  # This is a hidden layer with 128 neurons using a 'relu' activation function.\n",
        "    layers.Dense(10, activation='softmax')  # This is the output layer with 10 neurons for digit classification.\n",
        "])\n",
        "\n",
        "# Compile the model\n",
        "model.compile(optimizer='adam',  # We're configuring how the model will learn using the 'adam' optimizer.\n",
        "              loss='sparse_categorical_crossentropy',  # We're defining the loss function for training.\n",
        "              metrics=['accuracy'])  # We'll measure accuracy during training.\n",
        "\n",
        "# Load a dataset (e.g., MNIST)\n",
        "mnist = keras.datasets.mnist  # We're using the MNIST dataset, which contains handwritten digit images.\n",
        "\n",
        "# Load and prepare the data\n",
        "(train_images, train_labels), (test_images, test_labels) = mnist.load_data()  # We're loading the dataset into training and testing sets.\n",
        "\n",
        "# Preprocess the data\n",
        "train_images = train_images / 255.0  # We're scaling pixel values to be between 0 and 1.\n",
        "test_images = test_images / 255.0\n",
        "\n",
        "# Train the model\n",
        "model.fit(train_images.reshape(-1, 784), train_labels, epochs=5, batch_size=32)  # We're training the neural network on the training data.\n",
        "\n",
        "# Evaluate the model\n",
        "test_loss, test_acc = model.evaluate(test_images.reshape(-1, 784), test_labels)  # We're testing the trained model on the test data.\n",
        "print(f\"Test accuracy: {test_acc}\")  # We're printing the accuracy of the model's predictions on the test data.\n"
      ]
    },
    {
      "cell_type": "code",
      "source": [
        "from PIL import Image\n",
        "import numpy as np\n",
        "\n",
        "# Load the uploaded image\n",
        "uploaded_image = Image.open('seven.png')  # Replace 'your_uploaded_image.jpg' with the actual file name.\n",
        "\n",
        "# Preprocess the image\n",
        "uploaded_image = uploaded_image.convert('L')  # Convert to grayscale\n",
        "uploaded_image = uploaded_image.resize((28, 28))  # Resize to 28x28 pixels\n",
        "uploaded_image = np.array(uploaded_image) / 255.0  # Scale pixel values to be between 0 and 1\n",
        "\n",
        "# Use the previously trained model for prediction\n",
        "uploaded_image_prediction = model.predict(uploaded_image.reshape(1, 784))\n",
        "predicted_digit = np.argmax(uploaded_image_prediction)\n",
        "\n",
        "print(f\"Predicted Digit: {predicted_digit}\")\n",
        "\n"
      ],
      "metadata": {
        "id": "DaMgRRkUJOGv",
        "outputId": "5e092ef3-7bed-4f2c-ceb7-d0307df556db",
        "colab": {
          "base_uri": "https://localhost:8080/"
        }
      },
      "execution_count": 7,
      "outputs": [
        {
          "output_type": "stream",
          "name": "stdout",
          "text": [
            "1/1 [==============================] - 0s 60ms/step\n",
            "Predicted Digit: 7\n"
          ]
        }
      ]
    },
    {
      "cell_type": "code",
      "source": [
        "# Save the model to a file\n",
        "model.save('mnistx.keras')"
      ],
      "metadata": {
        "id": "umIlg_rcMU_8"
      },
      "execution_count": 12,
      "outputs": []
    },
    {
      "cell_type": "code",
      "source": [
        "from tensorflow import keras\n",
        "\n",
        "# Load the saved model in the native Keras format\n",
        "loaded_model = keras.models.load_model('mnistx.keras')  # Replace with the actual file path if needed\n"
      ],
      "metadata": {
        "id": "lapZ3YPMObGK"
      },
      "execution_count": 13,
      "outputs": []
    }
  ]
}